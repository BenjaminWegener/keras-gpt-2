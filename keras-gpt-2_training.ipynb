{
 "cells": [
  {
   "cell_type": "code",
   "execution_count": 1,
   "id": "e3260a26",
   "metadata": {
    "scrolled": true
   },
   "outputs": [],
   "source": [
    "import os, dill, time, random, numpy as np\n",
    "from keras_gpt_2 import load_trained_model_from_checkpoint, get_bpe_from_files, generate"
   ]
  },
  {
   "cell_type": "code",
   "execution_count": 2,
   "id": "c5dd6f28",
   "metadata": {},
   "outputs": [
    {
     "name": "stdout",
     "output_type": "stream",
     "text": [
      "Load model from checkpoint...\n",
      "WARNING:tensorflow:From c:\\python37\\lib\\site-packages\\tensorflow_core\\python\\keras\\initializers.py:119: calling RandomUniform.__init__ (from tensorflow.python.ops.init_ops) with dtype is deprecated and will be removed in a future version.\n",
      "Instructions for updating:\n",
      "Call initializer instance with the dtype argument instead of passing it to the constructor\n",
      "WARNING:tensorflow:From c:\\python37\\lib\\site-packages\\tensorflow_core\\python\\ops\\resource_variable_ops.py:1630: calling BaseResourceVariable.__init__ (from tensorflow.python.ops.resource_variable_ops) with constraint is deprecated and will be removed in a future version.\n",
      "Instructions for updating:\n",
      "If using Keras pass *_constraint arguments to layers.\n",
      "Load BPE from files...\n"
     ]
    }
   ],
   "source": [
    "model_folder = 'models/124M'\n",
    "config_path = os.path.join(model_folder, 'hparams.json')\n",
    "checkpoint_path = os.path.join(model_folder, 'model.ckpt')\n",
    "encoder_path = os.path.join(model_folder, 'encoder.json')\n",
    "vocab_path = os.path.join(model_folder, 'vocab.bpe')\n",
    "\n",
    "\n",
    "print('Load model from checkpoint...')\n",
    "model = load_trained_model_from_checkpoint(config_path, checkpoint_path)\n",
    "print('Load BPE from files...')\n",
    "bpe = get_bpe_from_files(encoder_path, vocab_path)"
   ]
  },
  {
   "cell_type": "code",
   "execution_count": 3,
   "id": "7f4c1612",
   "metadata": {},
   "outputs": [
    {
     "name": "stdout",
     "output_type": "stream",
     "text": [
      "Model: \"model\"\n",
      "__________________________________________________________________________________________________\n",
      "Layer (type)                    Output Shape         Param #     Connected to                     \n",
      "==================================================================================================\n",
      "Input (InputLayer)              [(None, None)]       0                                            \n",
      "__________________________________________________________________________________________________\n",
      "Embed-Token (EmbeddingRet)      [(None, None, 768),  38597376    Input[0][0]                      \n",
      "__________________________________________________________________________________________________\n",
      "Embed-Token-Pos (PositionEmbedd (None, None, 768)    786432      Embed-Token[0][0]                \n",
      "__________________________________________________________________________________________________\n",
      "Encode-0-MultiHeadAtt-Norm (Lay (None, None, 768)    1536        Embed-Token-Pos[0][0]            \n",
      "__________________________________________________________________________________________________\n",
      "Encode-0-MultiHeadAtt (MultiHea (None, None, 768)    2362368     Encode-0-MultiHeadAtt-Norm[0][0] \n",
      "__________________________________________________________________________________________________\n",
      "Encode-0-MultiHeadAtt-Add (Add) (None, None, 768)    0           Embed-Token-Pos[0][0]            \n",
      "                                                                 Encode-0-MultiHeadAtt[0][0]      \n",
      "__________________________________________________________________________________________________\n",
      "Encode-0-FeedForward-Norm (Laye (None, None, 768)    1536        Encode-0-MultiHeadAtt-Add[0][0]  \n",
      "__________________________________________________________________________________________________\n",
      "Encode-0-FeedForward (FeedForwa (None, None, 768)    4722432     Encode-0-FeedForward-Norm[0][0]  \n",
      "__________________________________________________________________________________________________\n",
      "Encode-0-FeedForward-Add (Add)  (None, None, 768)    0           Encode-0-MultiHeadAtt-Add[0][0]  \n",
      "                                                                 Encode-0-FeedForward[0][0]       \n",
      "__________________________________________________________________________________________________\n",
      "Encode-1-MultiHeadAtt-Norm (Lay (None, None, 768)    1536        Encode-0-FeedForward-Add[0][0]   \n",
      "__________________________________________________________________________________________________\n",
      "Encode-1-MultiHeadAtt (MultiHea (None, None, 768)    2362368     Encode-1-MultiHeadAtt-Norm[0][0] \n",
      "__________________________________________________________________________________________________\n",
      "Encode-1-MultiHeadAtt-Add (Add) (None, None, 768)    0           Encode-0-FeedForward-Add[0][0]   \n",
      "                                                                 Encode-1-MultiHeadAtt[0][0]      \n",
      "__________________________________________________________________________________________________\n",
      "Encode-1-FeedForward-Norm (Laye (None, None, 768)    1536        Encode-1-MultiHeadAtt-Add[0][0]  \n",
      "__________________________________________________________________________________________________\n",
      "Encode-1-FeedForward (FeedForwa (None, None, 768)    4722432     Encode-1-FeedForward-Norm[0][0]  \n",
      "__________________________________________________________________________________________________\n",
      "Encode-1-FeedForward-Add (Add)  (None, None, 768)    0           Encode-1-MultiHeadAtt-Add[0][0]  \n",
      "                                                                 Encode-1-FeedForward[0][0]       \n",
      "__________________________________________________________________________________________________\n",
      "Encode-2-MultiHeadAtt-Norm (Lay (None, None, 768)    1536        Encode-1-FeedForward-Add[0][0]   \n",
      "__________________________________________________________________________________________________\n",
      "Encode-2-MultiHeadAtt (MultiHea (None, None, 768)    2362368     Encode-2-MultiHeadAtt-Norm[0][0] \n",
      "__________________________________________________________________________________________________\n",
      "Encode-2-MultiHeadAtt-Add (Add) (None, None, 768)    0           Encode-1-FeedForward-Add[0][0]   \n",
      "                                                                 Encode-2-MultiHeadAtt[0][0]      \n",
      "__________________________________________________________________________________________________\n",
      "Encode-2-FeedForward-Norm (Laye (None, None, 768)    1536        Encode-2-MultiHeadAtt-Add[0][0]  \n",
      "__________________________________________________________________________________________________\n",
      "Encode-2-FeedForward (FeedForwa (None, None, 768)    4722432     Encode-2-FeedForward-Norm[0][0]  \n",
      "__________________________________________________________________________________________________\n",
      "Encode-2-FeedForward-Add (Add)  (None, None, 768)    0           Encode-2-MultiHeadAtt-Add[0][0]  \n",
      "                                                                 Encode-2-FeedForward[0][0]       \n",
      "__________________________________________________________________________________________________\n",
      "Encode-3-MultiHeadAtt-Norm (Lay (None, None, 768)    1536        Encode-2-FeedForward-Add[0][0]   \n",
      "__________________________________________________________________________________________________\n",
      "Encode-3-MultiHeadAtt (MultiHea (None, None, 768)    2362368     Encode-3-MultiHeadAtt-Norm[0][0] \n",
      "__________________________________________________________________________________________________\n",
      "Encode-3-MultiHeadAtt-Add (Add) (None, None, 768)    0           Encode-2-FeedForward-Add[0][0]   \n",
      "                                                                 Encode-3-MultiHeadAtt[0][0]      \n",
      "__________________________________________________________________________________________________\n",
      "Encode-3-FeedForward-Norm (Laye (None, None, 768)    1536        Encode-3-MultiHeadAtt-Add[0][0]  \n",
      "__________________________________________________________________________________________________\n",
      "Encode-3-FeedForward (FeedForwa (None, None, 768)    4722432     Encode-3-FeedForward-Norm[0][0]  \n",
      "__________________________________________________________________________________________________\n",
      "Encode-3-FeedForward-Add (Add)  (None, None, 768)    0           Encode-3-MultiHeadAtt-Add[0][0]  \n",
      "                                                                 Encode-3-FeedForward[0][0]       \n",
      "__________________________________________________________________________________________________\n",
      "Encode-4-MultiHeadAtt-Norm (Lay (None, None, 768)    1536        Encode-3-FeedForward-Add[0][0]   \n",
      "__________________________________________________________________________________________________\n",
      "Encode-4-MultiHeadAtt (MultiHea (None, None, 768)    2362368     Encode-4-MultiHeadAtt-Norm[0][0] \n",
      "__________________________________________________________________________________________________\n",
      "Encode-4-MultiHeadAtt-Add (Add) (None, None, 768)    0           Encode-3-FeedForward-Add[0][0]   \n",
      "                                                                 Encode-4-MultiHeadAtt[0][0]      \n",
      "__________________________________________________________________________________________________\n",
      "Encode-4-FeedForward-Norm (Laye (None, None, 768)    1536        Encode-4-MultiHeadAtt-Add[0][0]  \n",
      "__________________________________________________________________________________________________\n",
      "Encode-4-FeedForward (FeedForwa (None, None, 768)    4722432     Encode-4-FeedForward-Norm[0][0]  \n",
      "__________________________________________________________________________________________________\n",
      "Encode-4-FeedForward-Add (Add)  (None, None, 768)    0           Encode-4-MultiHeadAtt-Add[0][0]  \n",
      "                                                                 Encode-4-FeedForward[0][0]       \n",
      "__________________________________________________________________________________________________\n",
      "Encode-5-MultiHeadAtt-Norm (Lay (None, None, 768)    1536        Encode-4-FeedForward-Add[0][0]   \n",
      "__________________________________________________________________________________________________\n",
      "Encode-5-MultiHeadAtt (MultiHea (None, None, 768)    2362368     Encode-5-MultiHeadAtt-Norm[0][0] \n",
      "__________________________________________________________________________________________________\n",
      "Encode-5-MultiHeadAtt-Add (Add) (None, None, 768)    0           Encode-4-FeedForward-Add[0][0]   \n",
      "                                                                 Encode-5-MultiHeadAtt[0][0]      \n",
      "__________________________________________________________________________________________________\n",
      "Encode-5-FeedForward-Norm (Laye (None, None, 768)    1536        Encode-5-MultiHeadAtt-Add[0][0]  \n",
      "__________________________________________________________________________________________________\n",
      "Encode-5-FeedForward (FeedForwa (None, None, 768)    4722432     Encode-5-FeedForward-Norm[0][0]  \n",
      "__________________________________________________________________________________________________\n",
      "Encode-5-FeedForward-Add (Add)  (None, None, 768)    0           Encode-5-MultiHeadAtt-Add[0][0]  \n",
      "                                                                 Encode-5-FeedForward[0][0]       \n",
      "__________________________________________________________________________________________________\n",
      "Encode-6-MultiHeadAtt-Norm (Lay (None, None, 768)    1536        Encode-5-FeedForward-Add[0][0]   \n",
      "__________________________________________________________________________________________________\n",
      "Encode-6-MultiHeadAtt (MultiHea (None, None, 768)    2362368     Encode-6-MultiHeadAtt-Norm[0][0] \n",
      "__________________________________________________________________________________________________\n",
      "Encode-6-MultiHeadAtt-Add (Add) (None, None, 768)    0           Encode-5-FeedForward-Add[0][0]   \n",
      "                                                                 Encode-6-MultiHeadAtt[0][0]      \n",
      "__________________________________________________________________________________________________\n",
      "Encode-6-FeedForward-Norm (Laye (None, None, 768)    1536        Encode-6-MultiHeadAtt-Add[0][0]  \n",
      "__________________________________________________________________________________________________\n",
      "Encode-6-FeedForward (FeedForwa (None, None, 768)    4722432     Encode-6-FeedForward-Norm[0][0]  \n",
      "__________________________________________________________________________________________________\n",
      "Encode-6-FeedForward-Add (Add)  (None, None, 768)    0           Encode-6-MultiHeadAtt-Add[0][0]  \n",
      "                                                                 Encode-6-FeedForward[0][0]       \n",
      "__________________________________________________________________________________________________\n",
      "Encode-7-MultiHeadAtt-Norm (Lay (None, None, 768)    1536        Encode-6-FeedForward-Add[0][0]   \n",
      "__________________________________________________________________________________________________\n",
      "Encode-7-MultiHeadAtt (MultiHea (None, None, 768)    2362368     Encode-7-MultiHeadAtt-Norm[0][0] \n",
      "__________________________________________________________________________________________________\n",
      "Encode-7-MultiHeadAtt-Add (Add) (None, None, 768)    0           Encode-6-FeedForward-Add[0][0]   \n",
      "                                                                 Encode-7-MultiHeadAtt[0][0]      \n",
      "__________________________________________________________________________________________________\n",
      "Encode-7-FeedForward-Norm (Laye (None, None, 768)    1536        Encode-7-MultiHeadAtt-Add[0][0]  \n",
      "__________________________________________________________________________________________________\n",
      "Encode-7-FeedForward (FeedForwa (None, None, 768)    4722432     Encode-7-FeedForward-Norm[0][0]  \n",
      "__________________________________________________________________________________________________\n",
      "Encode-7-FeedForward-Add (Add)  (None, None, 768)    0           Encode-7-MultiHeadAtt-Add[0][0]  \n",
      "                                                                 Encode-7-FeedForward[0][0]       \n",
      "__________________________________________________________________________________________________\n",
      "Encode-8-MultiHeadAtt-Norm (Lay (None, None, 768)    1536        Encode-7-FeedForward-Add[0][0]   \n",
      "__________________________________________________________________________________________________\n",
      "Encode-8-MultiHeadAtt (MultiHea (None, None, 768)    2362368     Encode-8-MultiHeadAtt-Norm[0][0] \n",
      "__________________________________________________________________________________________________\n",
      "Encode-8-MultiHeadAtt-Add (Add) (None, None, 768)    0           Encode-7-FeedForward-Add[0][0]   \n",
      "                                                                 Encode-8-MultiHeadAtt[0][0]      \n",
      "__________________________________________________________________________________________________\n",
      "Encode-8-FeedForward-Norm (Laye (None, None, 768)    1536        Encode-8-MultiHeadAtt-Add[0][0]  \n",
      "__________________________________________________________________________________________________\n",
      "Encode-8-FeedForward (FeedForwa (None, None, 768)    4722432     Encode-8-FeedForward-Norm[0][0]  \n",
      "__________________________________________________________________________________________________\n",
      "Encode-8-FeedForward-Add (Add)  (None, None, 768)    0           Encode-8-MultiHeadAtt-Add[0][0]  \n",
      "                                                                 Encode-8-FeedForward[0][0]       \n",
      "__________________________________________________________________________________________________\n",
      "Encode-9-MultiHeadAtt-Norm (Lay (None, None, 768)    1536        Encode-8-FeedForward-Add[0][0]   \n",
      "__________________________________________________________________________________________________\n",
      "Encode-9-MultiHeadAtt (MultiHea (None, None, 768)    2362368     Encode-9-MultiHeadAtt-Norm[0][0] \n",
      "__________________________________________________________________________________________________\n",
      "Encode-9-MultiHeadAtt-Add (Add) (None, None, 768)    0           Encode-8-FeedForward-Add[0][0]   \n",
      "                                                                 Encode-9-MultiHeadAtt[0][0]      \n",
      "__________________________________________________________________________________________________\n",
      "Encode-9-FeedForward-Norm (Laye (None, None, 768)    1536        Encode-9-MultiHeadAtt-Add[0][0]  \n",
      "__________________________________________________________________________________________________\n",
      "Encode-9-FeedForward (FeedForwa (None, None, 768)    4722432     Encode-9-FeedForward-Norm[0][0]  \n",
      "__________________________________________________________________________________________________\n",
      "Encode-9-FeedForward-Add (Add)  (None, None, 768)    0           Encode-9-MultiHeadAtt-Add[0][0]  \n",
      "                                                                 Encode-9-FeedForward[0][0]       \n",
      "__________________________________________________________________________________________________\n",
      "Encode-10-MultiHeadAtt-Norm (La (None, None, 768)    1536        Encode-9-FeedForward-Add[0][0]   \n",
      "__________________________________________________________________________________________________\n",
      "Encode-10-MultiHeadAtt (MultiHe (None, None, 768)    2362368     Encode-10-MultiHeadAtt-Norm[0][0]\n",
      "__________________________________________________________________________________________________\n",
      "Encode-10-MultiHeadAtt-Add (Add (None, None, 768)    0           Encode-9-FeedForward-Add[0][0]   \n",
      "                                                                 Encode-10-MultiHeadAtt[0][0]     \n",
      "__________________________________________________________________________________________________\n",
      "Encode-10-FeedForward-Norm (Lay (None, None, 768)    1536        Encode-10-MultiHeadAtt-Add[0][0] \n",
      "__________________________________________________________________________________________________\n",
      "Encode-10-FeedForward (FeedForw (None, None, 768)    4722432     Encode-10-FeedForward-Norm[0][0] \n",
      "__________________________________________________________________________________________________\n",
      "Encode-10-FeedForward-Add (Add) (None, None, 768)    0           Encode-10-MultiHeadAtt-Add[0][0] \n",
      "                                                                 Encode-10-FeedForward[0][0]      \n",
      "__________________________________________________________________________________________________\n",
      "Encode-11-MultiHeadAtt-Norm (La (None, None, 768)    1536        Encode-10-FeedForward-Add[0][0]  \n",
      "__________________________________________________________________________________________________\n",
      "Encode-11-MultiHeadAtt (MultiHe (None, None, 768)    2362368     Encode-11-MultiHeadAtt-Norm[0][0]\n",
      "__________________________________________________________________________________________________\n",
      "Encode-11-MultiHeadAtt-Add (Add (None, None, 768)    0           Encode-10-FeedForward-Add[0][0]  \n",
      "                                                                 Encode-11-MultiHeadAtt[0][0]     \n",
      "__________________________________________________________________________________________________\n",
      "Encode-11-FeedForward-Norm (Lay (None, None, 768)    1536        Encode-11-MultiHeadAtt-Add[0][0] \n",
      "__________________________________________________________________________________________________\n",
      "Encode-11-FeedForward (FeedForw (None, None, 768)    4722432     Encode-11-FeedForward-Norm[0][0] \n",
      "__________________________________________________________________________________________________\n",
      "Encode-11-FeedForward-Add (Add) (None, None, 768)    0           Encode-11-MultiHeadAtt-Add[0][0] \n",
      "                                                                 Encode-11-FeedForward[0][0]      \n",
      "__________________________________________________________________________________________________\n",
      "Norm (LayerNormalization)       (None, None, 768)    1536        Encode-11-FeedForward-Add[0][0]  \n",
      "__________________________________________________________________________________________________\n",
      "Output (EmbeddingSim)           (None, None, 50257)  0           Norm[0][0]                       \n",
      "                                                                 Embed-Token[0][1]                \n",
      "==================================================================================================\n",
      "Total params: 124,439,808\n",
      "Trainable params: 124,439,808\n",
      "Non-trainable params: 0\n",
      "__________________________________________________________________________________________________\n"
     ]
    }
   ],
   "source": [
    "model.summary()"
   ]
  },
  {
   "cell_type": "code",
   "execution_count": 4,
   "id": "38fbb72e",
   "metadata": {},
   "outputs": [
    {
     "name": "stdout",
     "output_type": "stream",
     "text": [
      "Generate text...\n",
      "From the day forth, my arm would be held out, but it could not reach it; it must have had to rest for two months. But the man had no strength, and was so feeble and weak. He was a cripplesman; but, as I had seen, it could never have been so; he must never have had to work; but the doctor would tell his side of the truth. The patient could never walk or run, he must walk; he must never walk and run or walk again.\"\n",
      "\n",
      "\n",
      "\n",
      "prediction took 41.48360753059387 seconds\n"
     ]
    }
   ],
   "source": [
    "print('Generate text...')\n",
    "start = time.time()\n",
    "output = generate(model, bpe, ['From the day forth, my arm'], length=100, top_k=7, temperature=0.7)\n",
    "end = time.time()\n",
    "print(output[0])\n",
    "print(\"\\r\\nprediction took \" + str(end - start) + \" seconds\")"
   ]
  },
  {
   "cell_type": "code",
   "execution_count": 5,
   "id": "1d1c27c6",
   "metadata": {},
   "outputs": [
    {
     "name": "stdout",
     "output_type": "stream",
     "text": [
      "Download shakespeare dataset...\n"
     ]
    }
   ],
   "source": [
    "print('Download shakespeare dataset...')\n",
    "#get dataset\n",
    "try:\n",
    "    import urllib.request\n",
    "    resource = urllib.request.urlopen(\"https://github.com/karpathy/char-rnn/blob/master/data/tinyshakespeare/input.txt\")\n",
    "    content =  resource.read().decode(resource.headers.get_content_charset())\n",
    "    f = open('shakespeare.txt', 'w+')\n",
    "    f.write(str(content))\n",
    "    f.close()\n",
    "except:\n",
    "    pass\n",
    "txt = open('shakespeare.txt', 'r')\n",
    "dataset = txt.read()\n",
    "txt.close()"
   ]
  },
  {
   "cell_type": "code",
   "execution_count": 6,
   "id": "134138d1",
   "metadata": {},
   "outputs": [
    {
     "name": "stdout",
     "output_type": "stream",
     "text": [
      "Tokenize dataset...\n"
     ]
    }
   ],
   "source": [
    "print('Tokenize dataset...')\n",
    "try:\n",
    "    with open('tokens', 'rb') as f:\n",
    "        tokens = dill.load(f)\n",
    "except:\n",
    "    tokens = bpe.encode(dataset) #takes a moment\n",
    "    with open('tokens', 'wb') as f:\n",
    "        dill.dump(tokens, f)"
   ]
  },
  {
   "cell_type": "code",
   "execution_count": 7,
   "id": "77b08498",
   "metadata": {},
   "outputs": [
    {
     "name": "stdout",
     "output_type": "stream",
     "text": [
      "# of words in dataset: 340666\n",
      "# of tokens in dictionary: 50255\n"
     ]
    }
   ],
   "source": [
    "dictionary = list(set(tokens))\n",
    "vocabulary_size = max(dictionary)\n",
    "print('# of words in dataset: ' + str(len(tokens)))\n",
    "print('# of tokens in dictionary: ' + str(vocabulary_size))"
   ]
  },
  {
   "cell_type": "code",
   "execution_count": 8,
   "id": "b9a59f1b",
   "metadata": {},
   "outputs": [],
   "source": [
    "def get_batch(LENGTH, batch_size):\n",
    "    encoder_input_batch = []\n",
    "    target_output_batch = []\n",
    "    for _ in range(batch_size):\n",
    "        random_start = int(random.random() * (len(tokens) - (LENGTH * 2)) + 1)\n",
    "        \n",
    "        encoder_input = tokens[random_start : random_start + LENGTH]\n",
    "        encoder_input_batch.append(encoder_input)\n",
    "        target_output = tokens[random_start + 1 : random_start + LENGTH + 1]\n",
    "        target_output_batch.append(target_output)\n",
    "\n",
    "    yield np.asarray(encoder_input_batch), np.expand_dims(np.asarray(target_output_batch), 2)"
   ]
  },
  {
   "cell_type": "code",
   "execution_count": 9,
   "id": "67bbbc48",
   "metadata": {},
   "outputs": [],
   "source": [
    "from keras_gpt_2.backend import backend as K\n",
    "from keras_gpt_2.backend import optimizers, losses, callbacks\n",
    "\n",
    "def perplexity(y_true, y_pred):\n",
    "    \"\"\"\n",
    "    Popular metric for evaluating language modelling architectures.\n",
    "    More info: http://cs224d.stanford.edu/lecture_notes/LectureNotes4.pdf\n",
    "    \"\"\"\n",
    "    cross_entropy = K.sparse_categorical_crossentropy(y_true, y_pred)\n",
    "    return K.mean(K.exp(K.mean(cross_entropy, axis=-1)))    \n",
    "\n",
    "def lr_scheduler(epoch, lr):\n",
    "    return lr * 0.9999\n",
    "\n",
    "optimizer = optimizers.Adam(lr=0.001, beta_1=0.6, beta_2=0.999)\n",
    "callbacks = [callbacks.LearningRateScheduler(lr_scheduler, verbose=0)]\n",
    "loss = losses.sparse_categorical_crossentropy\n",
    "model.compile(optimizer, loss, metrics=[perplexity])"
   ]
  },
  {
   "cell_type": "code",
   "execution_count": 10,
   "id": "2e6cfdb9",
   "metadata": {},
   "outputs": [
    {
     "name": "stdout",
     "output_type": "stream",
     "text": [
      "WARNING:tensorflow:From c:\\python37\\lib\\site-packages\\tensorflow_core\\python\\ops\\math_grad.py:1424: where (from tensorflow.python.ops.array_ops) is deprecated and will be removed in a future version.\n",
      "Instructions for updating:\n",
      "Use tf.where in 2.0, which has the same broadcast rule as np.where\n",
      "epoch: 1\t| loss: 8.016\t| perplexity: 3030.255\t| time: 59.123s\t| lr: 0.0009999\n",
      "epoch: 2\t| loss: 6.974\t| perplexity: 1068.365\t| time: 30.130s\t| lr: 0.0009998\n"
     ]
    },
    {
     "ename": "KeyboardInterrupt",
     "evalue": "",
     "output_type": "error",
     "traceback": [
      "\u001b[1;31m---------------------------------------------------------------------------\u001b[0m",
      "\u001b[1;31mKeyboardInterrupt\u001b[0m                         Traceback (most recent call last)",
      "\u001b[1;32m~\\AppData\\Local\\Temp/ipykernel_7608/227265273.py\u001b[0m in \u001b[0;36m<module>\u001b[1;34m\u001b[0m\n\u001b[0;32m      3\u001b[0m     \u001b[0mx\u001b[0m\u001b[1;33m,\u001b[0m \u001b[0my\u001b[0m \u001b[1;33m=\u001b[0m \u001b[0mnext\u001b[0m\u001b[1;33m(\u001b[0m\u001b[0mget_batch\u001b[0m\u001b[1;33m(\u001b[0m\u001b[1;36m1024\u001b[0m\u001b[1;33m,\u001b[0m \u001b[1;36m1\u001b[0m\u001b[1;33m)\u001b[0m\u001b[1;33m)\u001b[0m\u001b[1;33m\u001b[0m\u001b[1;33m\u001b[0m\u001b[0m\n\u001b[0;32m      4\u001b[0m     \u001b[0mstart\u001b[0m \u001b[1;33m=\u001b[0m \u001b[0mtime\u001b[0m\u001b[1;33m.\u001b[0m\u001b[0mtime\u001b[0m\u001b[1;33m(\u001b[0m\u001b[1;33m)\u001b[0m\u001b[1;33m\u001b[0m\u001b[1;33m\u001b[0m\u001b[0m\n\u001b[1;32m----> 5\u001b[1;33m     \u001b[0mtrain_result\u001b[0m \u001b[1;33m=\u001b[0m \u001b[0mmodel\u001b[0m\u001b[1;33m.\u001b[0m\u001b[0mtrain_on_batch\u001b[0m\u001b[1;33m(\u001b[0m\u001b[0mx\u001b[0m\u001b[1;33m,\u001b[0m \u001b[0my\u001b[0m\u001b[1;33m)\u001b[0m\u001b[1;33m\u001b[0m\u001b[1;33m\u001b[0m\u001b[0m\n\u001b[0m\u001b[0;32m      6\u001b[0m     \u001b[0mtrain_result\u001b[0m \u001b[1;33m=\u001b[0m \u001b[0mmodel\u001b[0m\u001b[1;33m.\u001b[0m\u001b[0mfit\u001b[0m\u001b[1;33m(\u001b[0m\u001b[0mx\u001b[0m\u001b[1;33m,\u001b[0m \u001b[0my\u001b[0m\u001b[1;33m,\u001b[0m \u001b[0mepochs\u001b[0m \u001b[1;33m=\u001b[0m \u001b[1;36m1\u001b[0m\u001b[1;33m,\u001b[0m \u001b[0mcallbacks\u001b[0m \u001b[1;33m=\u001b[0m \u001b[0mcallbacks\u001b[0m\u001b[1;33m,\u001b[0m \u001b[0mverbose\u001b[0m \u001b[1;33m=\u001b[0m \u001b[1;36m0\u001b[0m\u001b[1;33m)\u001b[0m\u001b[1;33m\u001b[0m\u001b[1;33m\u001b[0m\u001b[0m\n\u001b[0;32m      7\u001b[0m     \u001b[0mend\u001b[0m \u001b[1;33m=\u001b[0m \u001b[0mtime\u001b[0m\u001b[1;33m.\u001b[0m\u001b[0mtime\u001b[0m\u001b[1;33m(\u001b[0m\u001b[1;33m)\u001b[0m\u001b[1;33m\u001b[0m\u001b[1;33m\u001b[0m\u001b[0m\n",
      "\u001b[1;32mc:\\python37\\lib\\site-packages\\tensorflow_core\\python\\keras\\engine\\training.py\u001b[0m in \u001b[0;36mtrain_on_batch\u001b[1;34m(self, x, y, sample_weight, class_weight, reset_metrics)\u001b[0m\n\u001b[0;32m   1015\u001b[0m       \u001b[0mself\u001b[0m\u001b[1;33m.\u001b[0m\u001b[0m_update_sample_weight_modes\u001b[0m\u001b[1;33m(\u001b[0m\u001b[0msample_weights\u001b[0m\u001b[1;33m=\u001b[0m\u001b[0msample_weights\u001b[0m\u001b[1;33m)\u001b[0m\u001b[1;33m\u001b[0m\u001b[1;33m\u001b[0m\u001b[0m\n\u001b[0;32m   1016\u001b[0m       \u001b[0mself\u001b[0m\u001b[1;33m.\u001b[0m\u001b[0m_make_train_function\u001b[0m\u001b[1;33m(\u001b[0m\u001b[1;33m)\u001b[0m\u001b[1;33m\u001b[0m\u001b[1;33m\u001b[0m\u001b[0m\n\u001b[1;32m-> 1017\u001b[1;33m       \u001b[0moutputs\u001b[0m \u001b[1;33m=\u001b[0m \u001b[0mself\u001b[0m\u001b[1;33m.\u001b[0m\u001b[0mtrain_function\u001b[0m\u001b[1;33m(\u001b[0m\u001b[0mins\u001b[0m\u001b[1;33m)\u001b[0m  \u001b[1;31m# pylint: disable=not-callable\u001b[0m\u001b[1;33m\u001b[0m\u001b[1;33m\u001b[0m\u001b[0m\n\u001b[0m\u001b[0;32m   1018\u001b[0m \u001b[1;33m\u001b[0m\u001b[0m\n\u001b[0;32m   1019\u001b[0m     \u001b[1;32mif\u001b[0m \u001b[0mreset_metrics\u001b[0m\u001b[1;33m:\u001b[0m\u001b[1;33m\u001b[0m\u001b[1;33m\u001b[0m\u001b[0m\n",
      "\u001b[1;32mc:\\python37\\lib\\site-packages\\tensorflow_core\\python\\keras\\backend.py\u001b[0m in \u001b[0;36m__call__\u001b[1;34m(self, inputs)\u001b[0m\n\u001b[0;32m   3474\u001b[0m \u001b[1;33m\u001b[0m\u001b[0m\n\u001b[0;32m   3475\u001b[0m     fetched = self._callable_fn(*array_vals,\n\u001b[1;32m-> 3476\u001b[1;33m                                 run_metadata=self.run_metadata)\n\u001b[0m\u001b[0;32m   3477\u001b[0m     \u001b[0mself\u001b[0m\u001b[1;33m.\u001b[0m\u001b[0m_call_fetch_callbacks\u001b[0m\u001b[1;33m(\u001b[0m\u001b[0mfetched\u001b[0m\u001b[1;33m[\u001b[0m\u001b[1;33m-\u001b[0m\u001b[0mlen\u001b[0m\u001b[1;33m(\u001b[0m\u001b[0mself\u001b[0m\u001b[1;33m.\u001b[0m\u001b[0m_fetches\u001b[0m\u001b[1;33m)\u001b[0m\u001b[1;33m:\u001b[0m\u001b[1;33m]\u001b[0m\u001b[1;33m)\u001b[0m\u001b[1;33m\u001b[0m\u001b[1;33m\u001b[0m\u001b[0m\n\u001b[0;32m   3478\u001b[0m     output_structure = nest.pack_sequence_as(\n",
      "\u001b[1;32mc:\\python37\\lib\\site-packages\\tensorflow_core\\python\\client\\session.py\u001b[0m in \u001b[0;36m__call__\u001b[1;34m(self, *args, **kwargs)\u001b[0m\n\u001b[0;32m   1470\u001b[0m         ret = tf_session.TF_SessionRunCallable(self._session._session,\n\u001b[0;32m   1471\u001b[0m                                                \u001b[0mself\u001b[0m\u001b[1;33m.\u001b[0m\u001b[0m_handle\u001b[0m\u001b[1;33m,\u001b[0m \u001b[0margs\u001b[0m\u001b[1;33m,\u001b[0m\u001b[1;33m\u001b[0m\u001b[1;33m\u001b[0m\u001b[0m\n\u001b[1;32m-> 1472\u001b[1;33m                                                run_metadata_ptr)\n\u001b[0m\u001b[0;32m   1473\u001b[0m         \u001b[1;32mif\u001b[0m \u001b[0mrun_metadata\u001b[0m\u001b[1;33m:\u001b[0m\u001b[1;33m\u001b[0m\u001b[1;33m\u001b[0m\u001b[0m\n\u001b[0;32m   1474\u001b[0m           \u001b[0mproto_data\u001b[0m \u001b[1;33m=\u001b[0m \u001b[0mtf_session\u001b[0m\u001b[1;33m.\u001b[0m\u001b[0mTF_GetBuffer\u001b[0m\u001b[1;33m(\u001b[0m\u001b[0mrun_metadata_ptr\u001b[0m\u001b[1;33m)\u001b[0m\u001b[1;33m\u001b[0m\u001b[1;33m\u001b[0m\u001b[0m\n",
      "\u001b[1;31mKeyboardInterrupt\u001b[0m: "
     ]
    }
   ],
   "source": [
    "epoch = 1\n",
    "while epoch < 1000:\n",
    "    x, y = next(get_batch(1024, 1))\n",
    "    start = time.time()\n",
    "    train_result = model.train_on_batch(x, y)\n",
    "    train_result = model.fit(x, y, epochs = 1, callbacks = callbacks, verbose = 0)\n",
    "    end = time.time()\n",
    "\n",
    "    print(\n",
    "        'epoch: ' + str(epoch)\n",
    "        + '\\t| loss: ' + \"{:.3f}\".format(train_result.history['loss'][0])\n",
    "        + '\\t| perplexity: ' + \"{:.3f}\".format(train_result.history['perplexity'][0])\n",
    "        + '\\t| time: ' + \"{:.3f}\".format(end - start) + 's'\n",
    "        + '\\t| lr: ' + \"{:.7f}\".format(train_result.history['lr'][0])\n",
    "    )\n",
    "    epoch = epoch + 1"
   ]
  },
  {
   "cell_type": "code",
   "execution_count": 11,
   "id": "bf6f55cb",
   "metadata": {},
   "outputs": [
    {
     "name": "stdout",
     "output_type": "stream",
     "text": [
      "Generate text...\n",
      "From the day forth, my arm-somewhing, it would have been more time for him. The only one to make a great, unedited out the last day of the time. I thought that was the best time I had had, I have a heart.\n",
      " I had been in an out, though it is still alive! I was too afraid of a long, long, but it seemed to make his head-ended in his heart-in.\n",
      "\n",
      "\n",
      "\n",
      "\n",
      "\n",
      "\n",
      " I am here too, he had his\n",
      "\n",
      "prediction took 43.76806616783142 seconds\n"
     ]
    }
   ],
   "source": [
    "print('Generate text...')\n",
    "start = time.time()\n",
    "output = generate(model, bpe, ['From the day forth, my arm'], length=100, top_k=7, temperature=0.7)\n",
    "end = time.time()\n",
    "print(output[0])\n",
    "print(\"\\r\\nprediction took \" + str(end - start) + \" seconds\")"
   ]
  },
  {
   "cell_type": "code",
   "execution_count": null,
   "id": "8f61a0e0",
   "metadata": {},
   "outputs": [],
   "source": []
  }
 ],
 "metadata": {
  "kernelspec": {
   "display_name": "Python 3 (ipykernel)",
   "language": "python",
   "name": "python3"
  },
  "language_info": {
   "codemirror_mode": {
    "name": "ipython",
    "version": 3
   },
   "file_extension": ".py",
   "mimetype": "text/x-python",
   "name": "python",
   "nbconvert_exporter": "python",
   "pygments_lexer": "ipython3",
   "version": "3.7.2"
  }
 },
 "nbformat": 4,
 "nbformat_minor": 5
}
